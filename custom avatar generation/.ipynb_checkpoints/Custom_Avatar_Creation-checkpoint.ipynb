{
 "cells": [
  {
   "cell_type": "code",
   "execution_count": 2,
   "id": "2d46ccb2-56b3-4a46-8577-6a9035c041a5",
   "metadata": {},
   "outputs": [
    {
     "name": "stdout",
     "output_type": "stream",
     "text": [
      "Requirement already satisfied: tensorflow in c:\\users\\poste\\anaconda3\\lib\\site-packages (2.18.0)\n",
      "Requirement already satisfied: tensorflow-intel==2.18.0 in c:\\users\\poste\\anaconda3\\lib\\site-packages (from tensorflow) (2.18.0)\n",
      "Requirement already satisfied: absl-py>=1.0.0 in c:\\users\\poste\\anaconda3\\lib\\site-packages (from tensorflow-intel==2.18.0->tensorflow) (2.1.0)\n",
      "Requirement already satisfied: astunparse>=1.6.0 in c:\\users\\poste\\anaconda3\\lib\\site-packages (from tensorflow-intel==2.18.0->tensorflow) (1.6.3)\n",
      "Requirement already satisfied: flatbuffers>=24.3.25 in c:\\users\\poste\\anaconda3\\lib\\site-packages (from tensorflow-intel==2.18.0->tensorflow) (24.3.25)\n",
      "Requirement already satisfied: gast!=0.5.0,!=0.5.1,!=0.5.2,>=0.2.1 in c:\\users\\poste\\anaconda3\\lib\\site-packages (from tensorflow-intel==2.18.0->tensorflow) (0.6.0)\n",
      "Requirement already satisfied: google-pasta>=0.1.1 in c:\\users\\poste\\anaconda3\\lib\\site-packages (from tensorflow-intel==2.18.0->tensorflow) (0.2.0)\n",
      "Requirement already satisfied: libclang>=13.0.0 in c:\\users\\poste\\anaconda3\\lib\\site-packages (from tensorflow-intel==2.18.0->tensorflow) (18.1.1)\n",
      "Requirement already satisfied: opt-einsum>=2.3.2 in c:\\users\\poste\\anaconda3\\lib\\site-packages (from tensorflow-intel==2.18.0->tensorflow) (3.4.0)\n",
      "Requirement already satisfied: packaging in c:\\users\\poste\\anaconda3\\lib\\site-packages (from tensorflow-intel==2.18.0->tensorflow) (23.2)\n",
      "Requirement already satisfied: protobuf!=4.21.0,!=4.21.1,!=4.21.2,!=4.21.3,!=4.21.4,!=4.21.5,<6.0.0dev,>=3.20.3 in c:\\users\\poste\\anaconda3\\lib\\site-packages (from tensorflow-intel==2.18.0->tensorflow) (3.20.3)\n",
      "Requirement already satisfied: requests<3,>=2.21.0 in c:\\users\\poste\\anaconda3\\lib\\site-packages (from tensorflow-intel==2.18.0->tensorflow) (2.32.2)\n",
      "Requirement already satisfied: setuptools in c:\\users\\poste\\anaconda3\\lib\\site-packages (from tensorflow-intel==2.18.0->tensorflow) (69.5.1)\n",
      "Requirement already satisfied: six>=1.12.0 in c:\\users\\poste\\anaconda3\\lib\\site-packages (from tensorflow-intel==2.18.0->tensorflow) (1.16.0)\n",
      "Requirement already satisfied: termcolor>=1.1.0 in c:\\users\\poste\\anaconda3\\lib\\site-packages (from tensorflow-intel==2.18.0->tensorflow) (2.5.0)\n",
      "Requirement already satisfied: typing-extensions>=3.6.6 in c:\\users\\poste\\anaconda3\\lib\\site-packages (from tensorflow-intel==2.18.0->tensorflow) (4.11.0)\n",
      "Requirement already satisfied: wrapt>=1.11.0 in c:\\users\\poste\\anaconda3\\lib\\site-packages (from tensorflow-intel==2.18.0->tensorflow) (1.14.1)\n",
      "Requirement already satisfied: grpcio<2.0,>=1.24.3 in c:\\users\\poste\\anaconda3\\lib\\site-packages (from tensorflow-intel==2.18.0->tensorflow) (1.68.0)\n",
      "Requirement already satisfied: tensorboard<2.19,>=2.18 in c:\\users\\poste\\anaconda3\\lib\\site-packages (from tensorflow-intel==2.18.0->tensorflow) (2.18.0)\n",
      "Requirement already satisfied: keras>=3.5.0 in c:\\users\\poste\\anaconda3\\lib\\site-packages (from tensorflow-intel==2.18.0->tensorflow) (3.6.0)\n",
      "Requirement already satisfied: numpy<2.1.0,>=1.26.0 in c:\\users\\poste\\anaconda3\\lib\\site-packages (from tensorflow-intel==2.18.0->tensorflow) (1.26.4)\n",
      "Requirement already satisfied: h5py>=3.11.0 in c:\\users\\poste\\anaconda3\\lib\\site-packages (from tensorflow-intel==2.18.0->tensorflow) (3.11.0)\n",
      "Requirement already satisfied: ml-dtypes<0.5.0,>=0.4.0 in c:\\users\\poste\\anaconda3\\lib\\site-packages (from tensorflow-intel==2.18.0->tensorflow) (0.4.1)\n",
      "Requirement already satisfied: wheel<1.0,>=0.23.0 in c:\\users\\poste\\anaconda3\\lib\\site-packages (from astunparse>=1.6.0->tensorflow-intel==2.18.0->tensorflow) (0.43.0)\n",
      "Requirement already satisfied: rich in c:\\users\\poste\\anaconda3\\lib\\site-packages (from keras>=3.5.0->tensorflow-intel==2.18.0->tensorflow) (13.3.5)\n",
      "Requirement already satisfied: namex in c:\\users\\poste\\anaconda3\\lib\\site-packages (from keras>=3.5.0->tensorflow-intel==2.18.0->tensorflow) (0.0.8)\n",
      "Requirement already satisfied: optree in c:\\users\\poste\\anaconda3\\lib\\site-packages (from keras>=3.5.0->tensorflow-intel==2.18.0->tensorflow) (0.13.1)\n",
      "Requirement already satisfied: charset-normalizer<4,>=2 in c:\\users\\poste\\anaconda3\\lib\\site-packages (from requests<3,>=2.21.0->tensorflow-intel==2.18.0->tensorflow) (2.0.4)\n",
      "Requirement already satisfied: idna<4,>=2.5 in c:\\users\\poste\\anaconda3\\lib\\site-packages (from requests<3,>=2.21.0->tensorflow-intel==2.18.0->tensorflow) (3.7)\n",
      "Requirement already satisfied: urllib3<3,>=1.21.1 in c:\\users\\poste\\anaconda3\\lib\\site-packages (from requests<3,>=2.21.0->tensorflow-intel==2.18.0->tensorflow) (2.2.2)\n",
      "Requirement already satisfied: certifi>=2017.4.17 in c:\\users\\poste\\anaconda3\\lib\\site-packages (from requests<3,>=2.21.0->tensorflow-intel==2.18.0->tensorflow) (2024.6.2)\n",
      "Requirement already satisfied: markdown>=2.6.8 in c:\\users\\poste\\anaconda3\\lib\\site-packages (from tensorboard<2.19,>=2.18->tensorflow-intel==2.18.0->tensorflow) (3.4.1)\n",
      "Requirement already satisfied: tensorboard-data-server<0.8.0,>=0.7.0 in c:\\users\\poste\\anaconda3\\lib\\site-packages (from tensorboard<2.19,>=2.18->tensorflow-intel==2.18.0->tensorflow) (0.7.2)\n",
      "Requirement already satisfied: werkzeug>=1.0.1 in c:\\users\\poste\\anaconda3\\lib\\site-packages (from tensorboard<2.19,>=2.18->tensorflow-intel==2.18.0->tensorflow) (3.0.3)\n",
      "Requirement already satisfied: MarkupSafe>=2.1.1 in c:\\users\\poste\\anaconda3\\lib\\site-packages (from werkzeug>=1.0.1->tensorboard<2.19,>=2.18->tensorflow-intel==2.18.0->tensorflow) (2.1.3)\n",
      "Requirement already satisfied: markdown-it-py<3.0.0,>=2.2.0 in c:\\users\\poste\\anaconda3\\lib\\site-packages (from rich->keras>=3.5.0->tensorflow-intel==2.18.0->tensorflow) (2.2.0)\n",
      "Requirement already satisfied: pygments<3.0.0,>=2.13.0 in c:\\users\\poste\\anaconda3\\lib\\site-packages (from rich->keras>=3.5.0->tensorflow-intel==2.18.0->tensorflow) (2.15.1)\n",
      "Requirement already satisfied: mdurl~=0.1 in c:\\users\\poste\\anaconda3\\lib\\site-packages (from markdown-it-py<3.0.0,>=2.2.0->rich->keras>=3.5.0->tensorflow-intel==2.18.0->tensorflow) (0.1.0)\n"
     ]
    }
   ],
   "source": [
    "!pip install tensorflow\n"
   ]
  },
  {
   "cell_type": "code",
   "execution_count": 6,
   "id": "4a8922c3-7aa2-4550-92ad-9e30ed0008f5",
   "metadata": {},
   "outputs": [
    {
     "name": "stdout",
     "output_type": "stream",
     "text": [
      "Libraries imported successfully!\n"
     ]
    }
   ],
   "source": [
    "import numpy as np\n",
    "import pandas as pd\n",
    "import tensorflow as tf\n",
    "from tensorflow.keras.models import Sequential\n",
    "from tensorflow.keras.layers import Dense, Input\n",
    "from sklearn.model_selection import train_test_split\n",
    "from sklearn.preprocessing import StandardScaler\n",
    "import matplotlib.pyplot as plt\n",
    "\n",
    "print(\"Libraries imported successfully!\")\n"
   ]
  },
  {
   "cell_type": "code",
   "execution_count": 7,
   "id": "390b3c9e-0880-4383-a8a6-4198b7b23021",
   "metadata": {},
   "outputs": [],
   "source": [
    "# Define the model\n",
    "model = Sequential([\n",
    "    Dense(64, activation='relu', input_shape=(4,)),  # Assuming 4 input features (user measurements)\n",
    "    Dense(32, activation='relu'),\n",
    "    Dense(2, activation='linear')  # Assuming 2 output features (avatar height and weight)\n",
    "])"
   ]
  },
  {
   "cell_type": "code",
   "execution_count": 8,
   "id": "41d26355-4aaf-46e4-bf34-1bb04a83bf61",
   "metadata": {},
   "outputs": [],
   "source": [
    "# Compile the model\n",
    "model.compile(optimizer='adam', loss='mean_squared_error', metrics=['mean_absolute_error'])"
   ]
  },
  {
   "cell_type": "code",
   "execution_count": 9,
   "id": "33590ff3-cb31-49ed-b21c-245c675ec60f",
   "metadata": {},
   "outputs": [
    {
     "data": {
      "text/html": [
       "<pre style=\"white-space:pre;overflow-x:auto;line-height:normal;font-family:Menlo,'DejaVu Sans Mono',consolas,'Courier New',monospace\"><span style=\"font-weight: bold\">Model: \"sequential_1\"</span>\n",
       "</pre>\n"
      ],
      "text/plain": [
       "\u001b[1mModel: \"sequential_1\"\u001b[0m\n"
      ]
     },
     "metadata": {},
     "output_type": "display_data"
    },
    {
     "data": {
      "text/html": [
       "<pre style=\"white-space:pre;overflow-x:auto;line-height:normal;font-family:Menlo,'DejaVu Sans Mono',consolas,'Courier New',monospace\">┏━━━━━━━━━━━━━━━━━━━━━━━━━━━━━━━━━┳━━━━━━━━━━━━━━━━━━━━━━━━┳━━━━━━━━━━━━━━━┓\n",
       "┃<span style=\"font-weight: bold\"> Layer (type)                    </span>┃<span style=\"font-weight: bold\"> Output Shape           </span>┃<span style=\"font-weight: bold\">       Param # </span>┃\n",
       "┡━━━━━━━━━━━━━━━━━━━━━━━━━━━━━━━━━╇━━━━━━━━━━━━━━━━━━━━━━━━╇━━━━━━━━━━━━━━━┩\n",
       "│ dense_3 (<span style=\"color: #0087ff; text-decoration-color: #0087ff\">Dense</span>)                 │ (<span style=\"color: #00d7ff; text-decoration-color: #00d7ff\">None</span>, <span style=\"color: #00af00; text-decoration-color: #00af00\">64</span>)             │           <span style=\"color: #00af00; text-decoration-color: #00af00\">320</span> │\n",
       "├─────────────────────────────────┼────────────────────────┼───────────────┤\n",
       "│ dense_4 (<span style=\"color: #0087ff; text-decoration-color: #0087ff\">Dense</span>)                 │ (<span style=\"color: #00d7ff; text-decoration-color: #00d7ff\">None</span>, <span style=\"color: #00af00; text-decoration-color: #00af00\">32</span>)             │         <span style=\"color: #00af00; text-decoration-color: #00af00\">2,080</span> │\n",
       "├─────────────────────────────────┼────────────────────────┼───────────────┤\n",
       "│ dense_5 (<span style=\"color: #0087ff; text-decoration-color: #0087ff\">Dense</span>)                 │ (<span style=\"color: #00d7ff; text-decoration-color: #00d7ff\">None</span>, <span style=\"color: #00af00; text-decoration-color: #00af00\">2</span>)              │            <span style=\"color: #00af00; text-decoration-color: #00af00\">66</span> │\n",
       "└─────────────────────────────────┴────────────────────────┴───────────────┘\n",
       "</pre>\n"
      ],
      "text/plain": [
       "┏━━━━━━━━━━━━━━━━━━━━━━━━━━━━━━━━━┳━━━━━━━━━━━━━━━━━━━━━━━━┳━━━━━━━━━━━━━━━┓\n",
       "┃\u001b[1m \u001b[0m\u001b[1mLayer (type)                   \u001b[0m\u001b[1m \u001b[0m┃\u001b[1m \u001b[0m\u001b[1mOutput Shape          \u001b[0m\u001b[1m \u001b[0m┃\u001b[1m \u001b[0m\u001b[1m      Param #\u001b[0m\u001b[1m \u001b[0m┃\n",
       "┡━━━━━━━━━━━━━━━━━━━━━━━━━━━━━━━━━╇━━━━━━━━━━━━━━━━━━━━━━━━╇━━━━━━━━━━━━━━━┩\n",
       "│ dense_3 (\u001b[38;5;33mDense\u001b[0m)                 │ (\u001b[38;5;45mNone\u001b[0m, \u001b[38;5;34m64\u001b[0m)             │           \u001b[38;5;34m320\u001b[0m │\n",
       "├─────────────────────────────────┼────────────────────────┼───────────────┤\n",
       "│ dense_4 (\u001b[38;5;33mDense\u001b[0m)                 │ (\u001b[38;5;45mNone\u001b[0m, \u001b[38;5;34m32\u001b[0m)             │         \u001b[38;5;34m2,080\u001b[0m │\n",
       "├─────────────────────────────────┼────────────────────────┼───────────────┤\n",
       "│ dense_5 (\u001b[38;5;33mDense\u001b[0m)                 │ (\u001b[38;5;45mNone\u001b[0m, \u001b[38;5;34m2\u001b[0m)              │            \u001b[38;5;34m66\u001b[0m │\n",
       "└─────────────────────────────────┴────────────────────────┴───────────────┘\n"
      ]
     },
     "metadata": {},
     "output_type": "display_data"
    },
    {
     "data": {
      "text/html": [
       "<pre style=\"white-space:pre;overflow-x:auto;line-height:normal;font-family:Menlo,'DejaVu Sans Mono',consolas,'Courier New',monospace\"><span style=\"font-weight: bold\"> Total params: </span><span style=\"color: #00af00; text-decoration-color: #00af00\">2,466</span> (9.63 KB)\n",
       "</pre>\n"
      ],
      "text/plain": [
       "\u001b[1m Total params: \u001b[0m\u001b[38;5;34m2,466\u001b[0m (9.63 KB)\n"
      ]
     },
     "metadata": {},
     "output_type": "display_data"
    },
    {
     "data": {
      "text/html": [
       "<pre style=\"white-space:pre;overflow-x:auto;line-height:normal;font-family:Menlo,'DejaVu Sans Mono',consolas,'Courier New',monospace\"><span style=\"font-weight: bold\"> Trainable params: </span><span style=\"color: #00af00; text-decoration-color: #00af00\">2,466</span> (9.63 KB)\n",
       "</pre>\n"
      ],
      "text/plain": [
       "\u001b[1m Trainable params: \u001b[0m\u001b[38;5;34m2,466\u001b[0m (9.63 KB)\n"
      ]
     },
     "metadata": {},
     "output_type": "display_data"
    },
    {
     "data": {
      "text/html": [
       "<pre style=\"white-space:pre;overflow-x:auto;line-height:normal;font-family:Menlo,'DejaVu Sans Mono',consolas,'Courier New',monospace\"><span style=\"font-weight: bold\"> Non-trainable params: </span><span style=\"color: #00af00; text-decoration-color: #00af00\">0</span> (0.00 B)\n",
       "</pre>\n"
      ],
      "text/plain": [
       "\u001b[1m Non-trainable params: \u001b[0m\u001b[38;5;34m0\u001b[0m (0.00 B)\n"
      ]
     },
     "metadata": {},
     "output_type": "display_data"
    }
   ],
   "source": [
    "# Summarize the model\n",
    "model.summary()"
   ]
  },
  {
   "cell_type": "code",
   "execution_count": 10,
   "id": "756dfd02-0e0a-43fa-8f39-1e6ffa021375",
   "metadata": {},
   "outputs": [],
   "source": [
    "import numpy as np\n",
    "import pandas as pd\n",
    "from sklearn.model_selection import train_test_split\n",
    "from sklearn.preprocessing import StandardScaler"
   ]
  },
  {
   "cell_type": "code",
   "execution_count": 11,
   "id": "2c1ef069-3a6f-460e-82cb-b6887b7ba0bf",
   "metadata": {},
   "outputs": [
    {
     "name": "stderr",
     "output_type": "stream",
     "text": [
      "WARNING:absl:You are saving your model as an HDF5 file via `model.save()` or `keras.saving.save_model(model)`. This file format is considered legacy. We recommend using instead the native Keras format, e.g. `model.save('my_model.keras')` or `keras.saving.save_model(model, 'my_model.keras')`. \n"
     ]
    },
    {
     "name": "stdout",
     "output_type": "stream",
     "text": [
      "Current Working Directory: C:\\Users\\poste\\zen_virtual_dressing\n",
      "Model saved at models\\avatar_generation.h5\n"
     ]
    }
   ],
   "source": [
    "import os\n",
    "# Print the current working directory\n",
    "print(\"Current Working Directory:\", os.getcwd())\n",
    "\n",
    "# Create a directory for models if it doesn't exist\n",
    "model_dir = 'zen_virtual_dressing/models'\n",
    "if not os.path.exists(model_dir):\n",
    "    os.makedirs(model_dir)\n",
    "\n",
    "model_path = os.path.join(model_dir, 'avatar_generation.h5')  # or 'avatar_generation.pth' for PyTorch\n",
    "model.save(model_path)  # For TensorFlow/Keras\n",
    "# torch.save(model.state_dict(), model_path)  # For PyTorch\n",
    "\n",
    "print(f\"Model saved at {model_path}\")\n"
   ]
  },
  {
   "cell_type": "code",
   "execution_count": 14,
   "id": "eed0cac9-c05b-4a51-8bf8-64d02fd529ca",
   "metadata": {},
   "outputs": [],
   "source": [
    "# Define parameters for synthetic data\n",
    "num_samples = 100  # Number of synthetic samples to generate\n",
    "\n",
    "# Generate synthetic user measurements\n",
    "height_mean, height_std = 170, 10\n",
    "weight_mean, weight_std = 70, 15\n",
    "chest_mean, chest_std = 90, 10\n",
    "waist_mean, waist_std = 80, 10\n",
    "\n",
    "np.random.seed(0)\n",
    "heights = np.random.normal(height_mean, height_std, num_samples)\n",
    "weights = np.random.normal(weight_mean, weight_std, num_samples)\n",
    "chest_circumferences = np.random.normal(chest_mean, chest_std, num_samples)\n",
    "waist_circumferences = np.random.normal(waist_mean, waist_std, num_samples)"
   ]
  },
  {
   "cell_type": "code",
   "execution_count": 15,
   "id": "688c86f1-cfca-42fa-9e94-cf42e5813f01",
   "metadata": {},
   "outputs": [],
   "source": [
    "# Generate synthetic avatar features\n",
    "avatar_height_mean, avatar_height_std = 170, 10\n",
    "avatar_weight_mean, avatar_weight_std = 70, 15\n",
    "\n",
    "avatar_heights = np.random.normal(avatar_height_mean, avatar_height_std, num_samples)\n",
    "avatar_weights = np.random.normal(avatar_weight_mean, avatar_weight_std, num_samples)\n"
   ]
  },
  {
   "cell_type": "code",
   "execution_count": 16,
   "id": "96193738-906a-47e2-b2b0-3282ecf67bbe",
   "metadata": {},
   "outputs": [
    {
     "name": "stdout",
     "output_type": "stream",
     "text": [
      "Synthetic data generated successfully.\n"
     ]
    }
   ],
   "source": [
    "# Create a DataFrame\n",
    "data = pd.DataFrame({\n",
    "    'Height (cm)': heights,\n",
    "    'Weight (kg)': weights,\n",
    "    'Chest Circumference (cm)': chest_circumferences,\n",
    "    'Waist Circumference (cm)': waist_circumferences,\n",
    "    'Avatar Height': avatar_heights,\n",
    "    'Avatar Weight': avatar_weights\n",
    "})\n",
    "\n",
    "print(\"Synthetic data generated successfully.\")\n"
   ]
  },
  {
   "cell_type": "code",
   "execution_count": 17,
   "id": "89b2a13a-dd9a-4bcc-9ce9-7cf06daca65c",
   "metadata": {},
   "outputs": [],
   "source": [
    "# Split data into features (X) and target (y)\n",
    "X = data[['Height (cm)', 'Weight (kg)', 'Chest Circumference (cm)', 'Waist Circumference (cm)']]\n",
    "y = data[['Avatar Height', 'Avatar Weight']]"
   ]
  },
  {
   "cell_type": "code",
   "execution_count": 18,
   "id": "9f5ce78b-1725-4eaa-817c-3a3dce2daf80",
   "metadata": {},
   "outputs": [],
   "source": [
    "# Scale the features\n",
    "scaler = StandardScaler()\n",
    "X_scaled = scaler.fit_transform(X)"
   ]
  },
  {
   "cell_type": "code",
   "execution_count": 19,
   "id": "e183940f-b939-40db-9849-00d20333c173",
   "metadata": {},
   "outputs": [
    {
     "name": "stdout",
     "output_type": "stream",
     "text": [
      "Synthetic data generated, loaded, and preprocessed successfully.\n"
     ]
    }
   ],
   "source": [
    "# Split into training and testing sets\n",
    "X_train, X_test, y_train, y_test = train_test_split(X_scaled, y, test_size=0.2, random_state=42)\n",
    "\n",
    "print(\"Synthetic data generated, loaded, and preprocessed successfully.\")"
   ]
  },
  {
   "cell_type": "code",
   "execution_count": 20,
   "id": "19604ddd-3489-4ead-8d8f-4e53b8206b58",
   "metadata": {},
   "outputs": [
    {
     "name": "stdout",
     "output_type": "stream",
     "text": [
      "Epoch 1/100\n",
      "4/4 [==============================] - 1s 80ms/step - loss: 16885.8223 - mean_absolute_error: 118.5065 - val_loss: 17767.1250 - val_mean_absolute_error: 122.0356\n",
      "Epoch 2/100\n",
      "4/4 [==============================] - 0s 13ms/step - loss: 16856.5508 - mean_absolute_error: 118.4068 - val_loss: 17737.2656 - val_mean_absolute_error: 121.9375\n",
      "Epoch 3/100\n",
      "4/4 [==============================] - 0s 13ms/step - loss: 16829.2969 - mean_absolute_error: 118.3133 - val_loss: 17708.9727 - val_mean_absolute_error: 121.8458\n",
      "Epoch 4/100\n",
      "4/4 [==============================] - 0s 13ms/step - loss: 16803.0879 - mean_absolute_error: 118.2229 - val_loss: 17680.9336 - val_mean_absolute_error: 121.7541\n",
      "Epoch 5/100\n",
      "4/4 [==============================] - 0s 13ms/step - loss: 16777.3555 - mean_absolute_error: 118.1333 - val_loss: 17653.6328 - val_mean_absolute_error: 121.6632\n",
      "Epoch 6/100\n",
      "4/4 [==============================] - 0s 13ms/step - loss: 16750.6914 - mean_absolute_error: 118.0412 - val_loss: 17624.8867 - val_mean_absolute_error: 121.5667\n",
      "Epoch 7/100\n",
      "4/4 [==============================] - 0s 13ms/step - loss: 16722.7305 - mean_absolute_error: 117.9436 - val_loss: 17594.7012 - val_mean_absolute_error: 121.4655\n",
      "Epoch 8/100\n",
      "4/4 [==============================] - 0s 13ms/step - loss: 16693.4922 - mean_absolute_error: 117.8418 - val_loss: 17561.4922 - val_mean_absolute_error: 121.3528\n",
      "Epoch 9/100\n",
      "4/4 [==============================] - 0s 12ms/step - loss: 16661.0410 - mean_absolute_error: 117.7277 - val_loss: 17524.8340 - val_mean_absolute_error: 121.2263\n",
      "Epoch 10/100\n",
      "4/4 [==============================] - 0s 12ms/step - loss: 16624.3652 - mean_absolute_error: 117.5969 - val_loss: 17484.3945 - val_mean_absolute_error: 121.0842\n",
      "Epoch 11/100\n",
      "4/4 [==============================] - 0s 13ms/step - loss: 16584.4297 - mean_absolute_error: 117.4524 - val_loss: 17439.4531 - val_mean_absolute_error: 120.9243\n",
      "Epoch 12/100\n",
      "4/4 [==============================] - 0s 22ms/step - loss: 16539.4238 - mean_absolute_error: 117.2874 - val_loss: 17388.5742 - val_mean_absolute_error: 120.7418\n",
      "Epoch 13/100\n",
      "4/4 [==============================] - 0s 13ms/step - loss: 16487.8711 - mean_absolute_error: 117.0972 - val_loss: 17331.4375 - val_mean_absolute_error: 120.5343\n",
      "Epoch 14/100\n",
      "4/4 [==============================] - 0s 13ms/step - loss: 16428.9922 - mean_absolute_error: 116.8786 - val_loss: 17267.5840 - val_mean_absolute_error: 120.3019\n",
      "Epoch 15/100\n",
      "4/4 [==============================] - 0s 13ms/step - loss: 16363.1895 - mean_absolute_error: 116.6298 - val_loss: 17196.9766 - val_mean_absolute_error: 120.0426\n",
      "Epoch 16/100\n",
      "4/4 [==============================] - 0s 12ms/step - loss: 16291.3633 - mean_absolute_error: 116.3587 - val_loss: 17117.9062 - val_mean_absolute_error: 119.7513\n",
      "Epoch 17/100\n",
      "4/4 [==============================] - 0s 13ms/step - loss: 16209.7773 - mean_absolute_error: 116.0498 - val_loss: 17030.6562 - val_mean_absolute_error: 119.4278\n",
      "Epoch 18/100\n",
      "4/4 [==============================] - 0s 14ms/step - loss: 16122.3477 - mean_absolute_error: 115.7134 - val_loss: 16934.8027 - val_mean_absolute_error: 119.0703\n",
      "Epoch 19/100\n",
      "4/4 [==============================] - 0s 12ms/step - loss: 16023.2734 - mean_absolute_error: 115.3317 - val_loss: 16830.2051 - val_mean_absolute_error: 118.6768\n",
      "Epoch 20/100\n",
      "4/4 [==============================] - 0s 13ms/step - loss: 15914.8730 - mean_absolute_error: 114.9123 - val_loss: 16716.3867 - val_mean_absolute_error: 118.2457\n",
      "Epoch 21/100\n",
      "4/4 [==============================] - 0s 15ms/step - loss: 15795.5332 - mean_absolute_error: 114.4436 - val_loss: 16591.4531 - val_mean_absolute_error: 117.7690\n",
      "Epoch 22/100\n",
      "4/4 [==============================] - 0s 12ms/step - loss: 15666.8584 - mean_absolute_error: 113.9354 - val_loss: 16457.2988 - val_mean_absolute_error: 117.2526\n",
      "Epoch 23/100\n",
      "4/4 [==============================] - 0s 14ms/step - loss: 15527.7754 - mean_absolute_error: 113.3781 - val_loss: 16310.3770 - val_mean_absolute_error: 116.6831\n",
      "Epoch 24/100\n",
      "4/4 [==============================] - 0s 12ms/step - loss: 15372.0576 - mean_absolute_error: 112.7543 - val_loss: 16151.6230 - val_mean_absolute_error: 116.0624\n",
      "Epoch 25/100\n",
      "4/4 [==============================] - 0s 12ms/step - loss: 15208.5264 - mean_absolute_error: 112.0843 - val_loss: 15980.0977 - val_mean_absolute_error: 115.3849\n",
      "Epoch 26/100\n",
      "4/4 [==============================] - 0s 13ms/step - loss: 15030.7861 - mean_absolute_error: 111.3630 - val_loss: 15794.7891 - val_mean_absolute_error: 114.6467\n",
      "Epoch 27/100\n",
      "4/4 [==============================] - 0s 12ms/step - loss: 14836.4121 - mean_absolute_error: 110.5558 - val_loss: 15596.4473 - val_mean_absolute_error: 113.8484\n",
      "Epoch 28/100\n",
      "4/4 [==============================] - 0s 14ms/step - loss: 14628.7627 - mean_absolute_error: 109.6876 - val_loss: 15383.9131 - val_mean_absolute_error: 112.9841\n",
      "Epoch 29/100\n",
      "4/4 [==============================] - 0s 15ms/step - loss: 14408.3672 - mean_absolute_error: 108.7534 - val_loss: 15158.7373 - val_mean_absolute_error: 112.0574\n",
      "Epoch 30/100\n",
      "4/4 [==============================] - 0s 13ms/step - loss: 14173.8906 - mean_absolute_error: 107.7432 - val_loss: 14919.4521 - val_mean_absolute_error: 111.0602\n",
      "Epoch 31/100\n",
      "4/4 [==============================] - 0s 17ms/step - loss: 13920.6855 - mean_absolute_error: 106.6371 - val_loss: 14663.6367 - val_mean_absolute_error: 109.9813\n",
      "Epoch 32/100\n",
      "4/4 [==============================] - 0s 14ms/step - loss: 13654.1113 - mean_absolute_error: 105.4632 - val_loss: 14393.9854 - val_mean_absolute_error: 108.8264\n",
      "Epoch 33/100\n",
      "4/4 [==============================] - 0s 16ms/step - loss: 13369.2559 - mean_absolute_error: 104.1888 - val_loss: 14108.0391 - val_mean_absolute_error: 107.5807\n",
      "Epoch 34/100\n",
      "4/4 [==============================] - 0s 14ms/step - loss: 13075.7197 - mean_absolute_error: 102.8436 - val_loss: 13809.5576 - val_mean_absolute_error: 106.2582\n",
      "Epoch 35/100\n",
      "4/4 [==============================] - 0s 15ms/step - loss: 12756.3799 - mean_absolute_error: 101.3569 - val_loss: 13494.6650 - val_mean_absolute_error: 104.8408\n",
      "Epoch 36/100\n",
      "4/4 [==============================] - 0s 14ms/step - loss: 12432.7725 - mean_absolute_error: 99.8201 - val_loss: 13165.6758 - val_mean_absolute_error: 103.3342\n",
      "Epoch 37/100\n",
      "4/4 [==============================] - 0s 13ms/step - loss: 12082.9531 - mean_absolute_error: 98.1398 - val_loss: 12823.6719 - val_mean_absolute_error: 101.7406\n",
      "Epoch 38/100\n",
      "4/4 [==============================] - 0s 12ms/step - loss: 11726.6875 - mean_absolute_error: 96.3991 - val_loss: 12465.1855 - val_mean_absolute_error: 100.0373\n",
      "Epoch 39/100\n",
      "4/4 [==============================] - 0s 11ms/step - loss: 11357.1836 - mean_absolute_error: 94.5856 - val_loss: 12094.9609 - val_mean_absolute_error: 98.2432\n",
      "Epoch 40/100\n",
      "4/4 [==============================] - 0s 11ms/step - loss: 10972.9355 - mean_absolute_error: 92.6479 - val_loss: 11716.1318 - val_mean_absolute_error: 96.3701\n",
      "Epoch 41/100\n",
      "4/4 [==============================] - 0s 11ms/step - loss: 10577.3945 - mean_absolute_error: 90.5916 - val_loss: 11327.3447 - val_mean_absolute_error: 94.4111\n",
      "Epoch 42/100\n",
      "4/4 [==============================] - 0s 11ms/step - loss: 10181.5615 - mean_absolute_error: 88.5131 - val_loss: 10927.7754 - val_mean_absolute_error: 92.3515\n",
      "Epoch 43/100\n",
      "4/4 [==============================] - 0s 11ms/step - loss: 9765.0020 - mean_absolute_error: 86.2633 - val_loss: 10523.4170 - val_mean_absolute_error: 90.2197\n",
      "Epoch 44/100\n",
      "4/4 [==============================] - 0s 11ms/step - loss: 9352.6426 - mean_absolute_error: 84.0098 - val_loss: 10109.7266 - val_mean_absolute_error: 87.9842\n",
      "Epoch 45/100\n",
      "4/4 [==============================] - 0s 11ms/step - loss: 8931.5742 - mean_absolute_error: 81.6288 - val_loss: 9693.3750 - val_mean_absolute_error: 85.6760\n",
      "Epoch 46/100\n",
      "4/4 [==============================] - 0s 11ms/step - loss: 8515.2900 - mean_absolute_error: 79.2979 - val_loss: 9277.0020 - val_mean_absolute_error: 83.3040\n",
      "Epoch 47/100\n",
      "4/4 [==============================] - 0s 11ms/step - loss: 8094.9644 - mean_absolute_error: 76.8135 - val_loss: 8857.0977 - val_mean_absolute_error: 80.8438\n",
      "Epoch 48/100\n",
      "4/4 [==============================] - 0s 10ms/step - loss: 7676.2061 - mean_absolute_error: 74.3383 - val_loss: 8438.0879 - val_mean_absolute_error: 78.4794\n",
      "Epoch 49/100\n",
      "4/4 [==============================] - 0s 12ms/step - loss: 7261.7783 - mean_absolute_error: 71.8992 - val_loss: 8022.2173 - val_mean_absolute_error: 76.0658\n",
      "Epoch 50/100\n",
      "4/4 [==============================] - 0s 10ms/step - loss: 6855.6758 - mean_absolute_error: 69.4375 - val_loss: 7611.2461 - val_mean_absolute_error: 73.5999\n",
      "Epoch 51/100\n",
      "4/4 [==============================] - 0s 10ms/step - loss: 6454.5518 - mean_absolute_error: 66.9436 - val_loss: 7210.5503 - val_mean_absolute_error: 71.1178\n",
      "Epoch 52/100\n",
      "4/4 [==============================] - 0s 10ms/step - loss: 6068.8389 - mean_absolute_error: 64.4343 - val_loss: 6814.4180 - val_mean_absolute_error: 68.5803\n",
      "Epoch 53/100\n",
      "4/4 [==============================] - 0s 11ms/step - loss: 5690.8457 - mean_absolute_error: 62.0362 - val_loss: 6428.7930 - val_mean_absolute_error: 66.0789\n",
      "Epoch 54/100\n",
      "4/4 [==============================] - 0s 12ms/step - loss: 5331.2324 - mean_absolute_error: 59.7029 - val_loss: 6053.8574 - val_mean_absolute_error: 63.9786\n",
      "Epoch 55/100\n",
      "4/4 [==============================] - 0s 11ms/step - loss: 4979.3027 - mean_absolute_error: 57.3599 - val_loss: 5695.5215 - val_mean_absolute_error: 62.1000\n",
      "Epoch 56/100\n",
      "4/4 [==============================] - 0s 19ms/step - loss: 4652.3232 - mean_absolute_error: 55.1341 - val_loss: 5348.4473 - val_mean_absolute_error: 60.1976\n",
      "Epoch 57/100\n",
      "4/4 [==============================] - 0s 12ms/step - loss: 4334.9756 - mean_absolute_error: 53.0477 - val_loss: 5014.7100 - val_mean_absolute_error: 58.2834\n",
      "Epoch 58/100\n",
      "4/4 [==============================] - 0s 12ms/step - loss: 4044.2241 - mean_absolute_error: 51.0643 - val_loss: 4687.7822 - val_mean_absolute_error: 56.3240\n",
      "Epoch 59/100\n",
      "4/4 [==============================] - 0s 11ms/step - loss: 3757.0854 - mean_absolute_error: 49.1406 - val_loss: 4381.7783 - val_mean_absolute_error: 54.5127\n",
      "Epoch 60/100\n",
      "4/4 [==============================] - 0s 10ms/step - loss: 3500.0781 - mean_absolute_error: 47.3788 - val_loss: 4088.4624 - val_mean_absolute_error: 52.6901\n",
      "Epoch 61/100\n",
      "4/4 [==============================] - 0s 11ms/step - loss: 3237.9871 - mean_absolute_error: 45.5745 - val_loss: 3816.2551 - val_mean_absolute_error: 50.9098\n",
      "Epoch 62/100\n",
      "4/4 [==============================] - 0s 11ms/step - loss: 3015.0725 - mean_absolute_error: 43.9217 - val_loss: 3556.3208 - val_mean_absolute_error: 49.1219\n",
      "Epoch 63/100\n",
      "4/4 [==============================] - 0s 11ms/step - loss: 2793.6528 - mean_absolute_error: 42.2348 - val_loss: 3315.3054 - val_mean_absolute_error: 47.3762\n",
      "Epoch 64/100\n",
      "4/4 [==============================] - 0s 11ms/step - loss: 2589.9258 - mean_absolute_error: 40.6414 - val_loss: 3088.8555 - val_mean_absolute_error: 45.6493\n",
      "Epoch 65/100\n",
      "4/4 [==============================] - 0s 12ms/step - loss: 2411.0037 - mean_absolute_error: 39.0602 - val_loss: 2874.1575 - val_mean_absolute_error: 43.9242\n",
      "Epoch 66/100\n",
      "4/4 [==============================] - 0s 11ms/step - loss: 2236.2373 - mean_absolute_error: 37.5483 - val_loss: 2676.5916 - val_mean_absolute_error: 42.2533\n",
      "Epoch 67/100\n",
      "4/4 [==============================] - 0s 11ms/step - loss: 2079.8816 - mean_absolute_error: 36.1606 - val_loss: 2489.3081 - val_mean_absolute_error: 40.5837\n",
      "Epoch 68/100\n",
      "4/4 [==============================] - 0s 14ms/step - loss: 1932.2334 - mean_absolute_error: 34.7496 - val_loss: 2316.2002 - val_mean_absolute_error: 38.9578\n",
      "Epoch 69/100\n",
      "4/4 [==============================] - 0s 11ms/step - loss: 1791.3237 - mean_absolute_error: 33.4075 - val_loss: 2160.6414 - val_mean_absolute_error: 37.4194\n",
      "Epoch 70/100\n",
      "4/4 [==============================] - 0s 11ms/step - loss: 1674.4041 - mean_absolute_error: 32.1704 - val_loss: 2013.4624 - val_mean_absolute_error: 35.8814\n",
      "Epoch 71/100\n",
      "4/4 [==============================] - 0s 11ms/step - loss: 1559.3964 - mean_absolute_error: 31.0828 - val_loss: 1880.9786 - val_mean_absolute_error: 34.4200\n",
      "Epoch 72/100\n",
      "4/4 [==============================] - 0s 11ms/step - loss: 1458.3818 - mean_absolute_error: 29.9424 - val_loss: 1759.2699 - val_mean_absolute_error: 32.9992\n",
      "Epoch 73/100\n",
      "4/4 [==============================] - 0s 11ms/step - loss: 1359.7661 - mean_absolute_error: 28.9595 - val_loss: 1649.6624 - val_mean_absolute_error: 31.6504\n",
      "Epoch 74/100\n",
      "4/4 [==============================] - 0s 11ms/step - loss: 1279.5985 - mean_absolute_error: 28.0494 - val_loss: 1551.0096 - val_mean_absolute_error: 30.4526\n",
      "Epoch 75/100\n",
      "4/4 [==============================] - 0s 11ms/step - loss: 1206.1309 - mean_absolute_error: 27.1474 - val_loss: 1460.4250 - val_mean_absolute_error: 29.6021\n",
      "Epoch 76/100\n",
      "4/4 [==============================] - 0s 11ms/step - loss: 1136.7593 - mean_absolute_error: 26.3321 - val_loss: 1381.7014 - val_mean_absolute_error: 28.9750\n",
      "Epoch 77/100\n",
      "4/4 [==============================] - 0s 11ms/step - loss: 1073.9242 - mean_absolute_error: 25.5438 - val_loss: 1311.2522 - val_mean_absolute_error: 28.3671\n",
      "Epoch 78/100\n",
      "4/4 [==============================] - 0s 11ms/step - loss: 1019.9934 - mean_absolute_error: 24.8489 - val_loss: 1248.7612 - val_mean_absolute_error: 27.8530\n",
      "Epoch 79/100\n",
      "4/4 [==============================] - 0s 11ms/step - loss: 977.4843 - mean_absolute_error: 24.3408 - val_loss: 1191.0940 - val_mean_absolute_error: 27.4303\n",
      "Epoch 80/100\n",
      "4/4 [==============================] - 0s 11ms/step - loss: 930.5721 - mean_absolute_error: 23.7512 - val_loss: 1143.0498 - val_mean_absolute_error: 27.0409\n",
      "Epoch 81/100\n",
      "4/4 [==============================] - 0s 11ms/step - loss: 894.6311 - mean_absolute_error: 23.2287 - val_loss: 1099.9729 - val_mean_absolute_error: 26.6683\n",
      "Epoch 82/100\n",
      "4/4 [==============================] - 0s 11ms/step - loss: 864.4517 - mean_absolute_error: 22.8564 - val_loss: 1061.3574 - val_mean_absolute_error: 26.3059\n",
      "Epoch 83/100\n",
      "4/4 [==============================] - 0s 11ms/step - loss: 837.3919 - mean_absolute_error: 22.4606 - val_loss: 1026.3989 - val_mean_absolute_error: 25.9709\n",
      "Epoch 84/100\n",
      "4/4 [==============================] - 0s 11ms/step - loss: 811.8751 - mean_absolute_error: 22.1159 - val_loss: 996.9672 - val_mean_absolute_error: 25.6814\n",
      "Epoch 85/100\n",
      "4/4 [==============================] - 0s 11ms/step - loss: 788.8072 - mean_absolute_error: 21.7756 - val_loss: 971.7620 - val_mean_absolute_error: 25.4144\n",
      "Epoch 86/100\n",
      "4/4 [==============================] - 0s 17ms/step - loss: 770.3928 - mean_absolute_error: 21.5220 - val_loss: 950.0363 - val_mean_absolute_error: 25.1708\n",
      "Epoch 87/100\n",
      "4/4 [==============================] - 0s 11ms/step - loss: 754.4452 - mean_absolute_error: 21.2756 - val_loss: 930.5544 - val_mean_absolute_error: 24.9270\n",
      "Epoch 88/100\n",
      "4/4 [==============================] - 0s 11ms/step - loss: 739.3060 - mean_absolute_error: 21.0247 - val_loss: 913.2066 - val_mean_absolute_error: 24.6986\n",
      "Epoch 89/100\n",
      "4/4 [==============================] - 0s 11ms/step - loss: 727.7640 - mean_absolute_error: 20.8667 - val_loss: 897.3647 - val_mean_absolute_error: 24.4644\n",
      "Epoch 90/100\n",
      "4/4 [==============================] - 0s 11ms/step - loss: 714.6570 - mean_absolute_error: 20.7116 - val_loss: 885.0465 - val_mean_absolute_error: 24.2862\n",
      "Epoch 91/100\n",
      "4/4 [==============================] - 0s 11ms/step - loss: 705.1308 - mean_absolute_error: 20.5625 - val_loss: 872.0711 - val_mean_absolute_error: 24.0727\n",
      "Epoch 92/100\n",
      "4/4 [==============================] - 0s 11ms/step - loss: 694.9485 - mean_absolute_error: 20.4301 - val_loss: 861.9426 - val_mean_absolute_error: 23.9056\n",
      "Epoch 93/100\n",
      "4/4 [==============================] - 0s 11ms/step - loss: 686.9707 - mean_absolute_error: 20.3337 - val_loss: 851.3650 - val_mean_absolute_error: 23.7575\n",
      "Epoch 94/100\n",
      "4/4 [==============================] - 0s 11ms/step - loss: 679.0198 - mean_absolute_error: 20.2619 - val_loss: 842.1869 - val_mean_absolute_error: 23.6293\n",
      "Epoch 95/100\n",
      "4/4 [==============================] - 0s 11ms/step - loss: 671.9532 - mean_absolute_error: 20.2239 - val_loss: 834.2670 - val_mean_absolute_error: 23.5408\n",
      "Epoch 96/100\n",
      "4/4 [==============================] - 0s 11ms/step - loss: 664.8527 - mean_absolute_error: 20.1500 - val_loss: 826.8896 - val_mean_absolute_error: 23.4507\n",
      "Epoch 97/100\n",
      "4/4 [==============================] - 0s 11ms/step - loss: 658.6436 - mean_absolute_error: 20.1142 - val_loss: 818.6894 - val_mean_absolute_error: 23.3434\n",
      "Epoch 98/100\n",
      "4/4 [==============================] - 0s 11ms/step - loss: 652.2189 - mean_absolute_error: 20.0520 - val_loss: 812.5327 - val_mean_absolute_error: 23.2621\n",
      "Epoch 99/100\n",
      "4/4 [==============================] - 0s 11ms/step - loss: 646.6429 - mean_absolute_error: 20.0005 - val_loss: 805.1586 - val_mean_absolute_error: 23.1584\n",
      "Epoch 100/100\n",
      "4/4 [==============================] - 0s 11ms/step - loss: 640.6934 - mean_absolute_error: 19.9304 - val_loss: 799.4045 - val_mean_absolute_error: 23.0767\n"
     ]
    }
   ],
   "source": [
    "# Train the model\n",
    "history = model.fit(X_train, y_train, epochs=100, batch_size=16, validation_split=0.2)"
   ]
  },
  {
   "cell_type": "code",
   "execution_count": 16,
   "id": "cae67a0c-cfe2-407a-aacc-c31bdb8f41b7",
   "metadata": {},
   "outputs": [
    {
     "data": {
      "image/png": "[encoded data removed]",
      "text/plain": [
       "<Figure size 1200x600 with 1 Axes>"
      ]
     },
     "metadata": {},
     "output_type": "display_data"
    }
   ],
   "source": [
    "import matplotlib.pyplot as plt\n",
    "\n",
    "# Plot training & validation loss values\n",
    "plt.figure(figsize=(12, 6))\n",
    "plt.plot(history.history['loss'], label='Training Loss')\n",
    "plt.plot(history.history['val_loss'], label='Validation Loss')\n",
    "plt.title('Model Loss')\n",
    "plt.ylabel('Loss')\n",
    "plt.xlabel('Epoch')\n",
    "plt.legend(loc='upper right')\n",
    "plt.show()\n"
   ]
  },
  {
   "cell_type": "code",
   "execution_count": 21,
   "id": "1745d5f4-688e-4058-8cf0-8e26a3c42028",
   "metadata": {},
   "outputs": [
    {
     "name": "stdout",
     "output_type": "stream",
     "text": [
      "1/1 [==============================] - 0s 293ms/step - loss: 403.0411 - mean_absolute_error: 15.6335\n",
      "Test Loss: 403.04107666015625\n",
      "Test Mean Absolute Error (MAE): 15.63347053527832\n"
     ]
    }
   ],
   "source": [
    "# Evaluate the model\n",
    "test_loss, test_mae = model.evaluate(X_test, y_test)\n",
    "print(f\"Test Loss: {test_loss}\")\n",
    "print(f\"Test Mean Absolute Error (MAE): {test_mae}\")\n"
   ]
  },
  {
   "cell_type": "code",
   "execution_count": 22,
   "id": "43173c71-70af-4f92-9c6c-e9048f213c0f",
   "metadata": {},
   "outputs": [
    {
     "name": "stdout",
     "output_type": "stream",
     "text": [
      "1/1 [==============================] - 0s 113ms/step\n",
      "       Actual   Predicted\n",
      "0  165.756824  225.022888\n",
      "1  172.790958  160.489273\n",
      "2  149.835934  141.892426\n",
      "3  168.848925  150.326385\n",
      "4  178.758328  197.284241\n"
     ]
    }
   ],
   "source": [
    "# Make predictions\n",
    "predictions = model.predict(X_test)\n",
    "\n",
    "# Compare predictions with actual values\n",
    "comparison_df = pd.DataFrame({'Actual': y_test['Avatar Height'].values, 'Predicted': predictions[:, 0]})\n",
    "print(comparison_df.head())\n"
   ]
  },
  {
   "cell_type": "code",
   "execution_count": 23,
   "id": "e53e1385-feaf-41f2-bd56-5a504028d7a7",
   "metadata": {},
   "outputs": [
    {
     "data": {
      "image/png": "[encoded data removed]",
      "text/plain": [
       "<Figure size 1000x600 with 1 Axes>"
      ]
     },
     "metadata": {},
     "output_type": "display_data"
    }
   ],
   "source": [
    "# Plot actual vs predicted values\n",
    "plt.figure(figsize=(10, 6))\n",
    "plt.scatter(y_test['Avatar Height'], predictions[:, 0], c='blue')\n",
    "plt.plot([y_test['Avatar Height'].min(), y_test['Avatar Height'].max()], [y_test['Avatar Height'].min(), y_test['Avatar Height'].max()], 'k--', lw=3)\n",
    "plt.xlabel('Actual')\n",
    "plt.ylabel('Predicted')\n",
    "plt.title('Actual vs Predicted Avatar Height')\n",
    "plt.show()\n"
   ]
  },
  {
   "cell_type": "code",
   "execution_count": 24,
   "id": "51d76312-4cee-4dde-81a3-2ccfc2728c11",
   "metadata": {},
   "outputs": [
    {
     "name": "stdout",
     "output_type": "stream",
     "text": [
      "Model loaded successfully!\n"
     ]
    }
   ],
   "source": [
    "import tensorflow as tf\n",
    "\n",
    "# Load the saved model\n",
    "model_path = 'models/avatar_generation.h5'\n",
    "model = tf.keras.models.load_model(model_path)\n",
    "print(\"Model loaded successfully!\")\n"
   ]
  },
  {
   "cell_type": "code",
   "execution_count": null,
   "id": "5093fffe-6122-4b92-ae99-78c4d0d89402",
   "metadata": {},
   "outputs": [],
   "source": []
  }
 ],
 "metadata": {
  "kernelspec": {
   "display_name": "Python 3 (ipykernel)",
   "language": "python",
   "name": "python3"
  },
  "language_info": {
   "codemirror_mode": {
    "name": "ipython",
    "version": 3
   },
   "file_extension": ".py",
   "mimetype": "text/x-python",
   "name": "python",
   "nbconvert_exporter": "python",
   "pygments_lexer": "ipython3",
   "version": "3.12.4"
  }
 },
 "nbformat": 4,
 "nbformat_minor": 5
}
