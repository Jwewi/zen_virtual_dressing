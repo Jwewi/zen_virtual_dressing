{
 "cells": [
  {
   "cell_type": "code",
   "execution_count": null,
   "id": "97b72ae5-dee2-4708-875b-2633c9ece55a",
   "metadata": {},
   "outputs": [],
   "source": [
    "# api.py\n",
    "\n",
    "from flask import Flask, request, jsonify\n",
    "from scipy import sparse\n",
    "from sklearn.metrics.pairwise import linear_kernel\n",
    "\n",
    "app = Flask(__name__)\n",
    "\n",
    "# Load the TF-IDF matrix\n",
    "tfidf_matrix = sparse.load_npz(\"C:\\Users\\Yassine\\Desktop\\Final model\\data\\tfidf_matrix.npz\")\n",
    "\n",
    "def recommend_outfits(tfidf_matrix, outfit_index, num_recommendations=5):\n",
    "    cosine_similarities = linear_kernel(tfidf_matrix[outfit_index], tfidf_matrix).flatten()\n",
    "    related_docs_indices = cosine_similarities.argsort()[:-num_recommendations-1:-1]\n",
    "    return related_docs_indices\n",
    "\n",
    "@app.route('/recommend', methods=['GET'])\n",
    "def recommend():\n",
    "    outfit_id = request.args.get('outfit_id', type=int)\n",
    "    recommendations = recommend_outfits(tfidf_matrix, outfit_id)\n",
    "    return jsonify(recommendations.tolist())\n",
    "\n",
    "if __name__ == '__main__':\n",
    "    app.run(debug=True)\n"
   ]
  }
 ],
 "metadata": {
  "kernelspec": {
   "display_name": "Python 3 (ipykernel)",
   "language": "python",
   "name": "python3"
  },
  "language_info": {
   "codemirror_mode": {
    "name": "ipython",
    "version": 3
   },
   "file_extension": ".py",
   "mimetype": "text/x-python",
   "name": "python",
   "nbconvert_exporter": "python",
   "pygments_lexer": "ipython3",
   "version": "3.12.7"
  }
 },
 "nbformat": 4,
 "nbformat_minor": 5
}
