{
 "cells": [
  {
   "cell_type": "code",
   "execution_count": 1,
   "id": "9467b5c7",
   "metadata": {},
   "outputs": [],
   "source": [
    "API_KEY = '5198845355:AAGMyUaJD6rw57dV4zlEuj08-QLD9m8LpGQ'"
   ]
  }
 ],
 "metadata": {
  "kernelspec": {
   "display_name": "Python 3 (ipykernel)",
   "language": "python",
   "name": "python3"
  },
  "language_info": {
   "codemirror_mode": {
    "name": "ipython",
    "version": 3
   },
   "file_extension": ".py",
   "mimetype": "text/x-python",
   "name": "python",
   "nbconvert_exporter": "python",
   "pygments_lexer": "ipython3",
   "version": "3.9.12"
  }
 },
 "nbformat": 4,
 "nbformat_minor": 5
}
